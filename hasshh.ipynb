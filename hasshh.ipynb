{
 "cells": [
  {
   "cell_type": "code",
   "execution_count": 3,
   "id": "d1f5fb30",
   "metadata": {},
   "outputs": [
    {
     "name": "stdout",
     "output_type": "stream",
     "text": [
      "Collecting bcrypt\n",
      "  Using cached bcrypt-4.3.0-cp39-abi3-win_amd64.whl (152 kB)\n",
      "Installing collected packages: bcrypt\n",
      "Successfully installed bcrypt-4.3.0\n"
     ]
    },
    {
     "name": "stderr",
     "output_type": "stream",
     "text": [
      "\n",
      "[notice] A new release of pip is available: 23.0.1 -> 25.2\n",
      "[notice] To update, run: python.exe -m pip install --upgrade pip\n"
     ]
    }
   ],
   "source": [
    "!pip install bcrypt\n"
   ]
  },
  {
   "cell_type": "code",
   "execution_count": 4,
   "id": "840a40ef",
   "metadata": {},
   "outputs": [],
   "source": [
    "import bcrypt"
   ]
  },
  {
   "cell_type": "code",
   "execution_count": 5,
   "id": "37337ece",
   "metadata": {},
   "outputs": [
    {
     "name": "stdout",
     "output_type": "stream",
     "text": [
      "Hashed password is: b'$2b$12$JwWFkHBOX11HhGzn9r/Y6Oj/rgeSj/tJ5NnWdJZdVZbIUZz9wfose'\n",
      "\n",
      "✅ Password match: False\n"
     ]
    }
   ],
   "source": [
    "def hash_password(password):\n",
    "    salt= bcrypt.gensalt()\n",
    "    hashed= bcrypt.hashpw(password.encode(\"utf-8\"),salt)\n",
    "    return hashed\n",
    "\n",
    "def verify_pass(password,hashed_password):\n",
    "    return bcrypt.checkpw(password.encode(\"utf-8\"),hashed_password)\n",
    "\n",
    "\n",
    "if __name__ ==\"__main__\":\n",
    "    password= input(\"Enter a password to Hash: \")\n",
    "\n",
    "    hashed_password= hash_password(password)\n",
    "    print(f\"Hashed password is: {hashed_password}\")\n",
    "\n",
    "    check_password = input(\"\\n🔁 Re-enter password to verify: \")\n",
    "\n",
    "\n",
    "    is_correct= verify_pass(\"mylife\",hashed_password)\n",
    "    print(f\"\\n✅ Password match: {is_correct}\")\n",
    "\n",
    "    \n"
   ]
  }
 ],
 "metadata": {
  "kernelspec": {
   "display_name": "Python 3",
   "language": "python",
   "name": "python3"
  },
  "language_info": {
   "codemirror_mode": {
    "name": "ipython",
    "version": 3
   },
   "file_extension": ".py",
   "mimetype": "text/x-python",
   "name": "python",
   "nbconvert_exporter": "python",
   "pygments_lexer": "ipython3",
   "version": "3.10.11"
  }
 },
 "nbformat": 4,
 "nbformat_minor": 5
}
